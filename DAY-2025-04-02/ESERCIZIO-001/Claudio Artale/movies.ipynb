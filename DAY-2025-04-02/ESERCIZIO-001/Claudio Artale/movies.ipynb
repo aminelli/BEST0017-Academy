{
 "cells": [
  {
   "cell_type": "code",
   "execution_count": 1,
   "metadata": {},
   "outputs": [],
   "source": [
    "import pandas as pd\n",
    "import re"
   ]
  },
  {
   "cell_type": "markdown",
   "metadata": {},
   "source": [
    "#Funzione di supporto"
   ]
  },
  {
   "cell_type": "code",
   "execution_count": 2,
   "metadata": {},
   "outputs": [],
   "source": [
    "def pulisci_titolo(titolo):\n",
    "    # Rimuove l'indice numerico iniziale, es. \"1. \" → \"\"\n",
    "    titolo = re.sub(r'^\\d+\\.\\s*', '', titolo)\n",
    "    \n",
    "    # Rimuove articoli iniziali (The, A, An) solo se sono all'inizio\n",
    "    titolo = re.sub(r'^(The|A|An)\\s+', '', titolo, flags=re.IGNORECASE)\n",
    "    \n",
    "    return titolo\n",
    "\n",
    "def durata_in_minuti(durata_str):\n",
    "    if isinstance(durata_str, str):\n",
    "        match = re.match(r'(?:(\\d+)h)?\\s*(?:(\\d+)m)?', durata_str.strip())\n",
    "        ore = int(match.group(1)) if match and match.group(1) else 0\n",
    "        minuti = int(match.group(2)) if match and match.group(2) else 0\n",
    "        return ore * 60 + minuti\n",
    "    else:\n",
    "        return 0  # oppure puoi restituire None"
   ]
  },
  {
   "cell_type": "markdown",
   "metadata": {},
   "source": [
    "# Caricamento del file CSV in un dataframe"
   ]
  },
  {
   "cell_type": "code",
   "execution_count": 3,
   "metadata": {},
   "outputs": [],
   "source": [
    "# Carica il file CSV in un DataFrame\n",
    "df = pd.read_csv(\"imdb_movies_2024.csv\")"
   ]
  },
  {
   "cell_type": "markdown",
   "metadata": {},
   "source": [
    "#1. Ordinamento dei film in base al titolo"
   ]
  },
  {
   "cell_type": "code",
   "execution_count": 7,
   "metadata": {},
   "outputs": [
    {
     "name": "stdout",
     "output_type": "stream",
     "text": [
      "                                                 Title  \\\n",
      "0                                414. A '90s Christmas   \n",
      "1    114. 2024 Oscar Nominated Short Films: Documen...   \n",
      "2                                            305. 2073   \n",
      "3                                  524. The 4:30 Movie   \n",
      "4                                         316. 50 km/h   \n",
      "..                                                 ...   \n",
      "595                                  325. Young Hearts   \n",
      "596                       194. Young Woman and the Sea   \n",
      "597                                  174. Your Monster   \n",
      "598                              291. Zurawski v Texas   \n",
      "599                         229. ¡Casa Bonita Mi Amor!   \n",
      "\n",
      "                                            Movie Link  Year Duration  MPA  \\\n",
      "0    https://www.imdb.com/title/tt16270280/?ref_=sr...  2024   1h 30m  NaN   \n",
      "1    https://www.imdb.com/title/tt31272312/?ref_=sr...  2024   2h 13m  NaN   \n",
      "2    https://www.imdb.com/title/tt22042346/?ref_=sr...  2024   1h 25m  NaN   \n",
      "3    https://www.imdb.com/title/tt28658276/?ref_=sr...  2024   1h 27m    R   \n",
      "4    https://www.imdb.com/title/tt27395353/?ref_=sr...  2024   1h 50m    R   \n",
      "..                                                 ...   ...      ...  ...   \n",
      "595  https://www.imdb.com/title/tt15245268/?ref_=sr...  2024   1h 37m  NaN   \n",
      "596  https://www.imdb.com/title/tt5177114/?ref_=sr_...  2024    2h 9m   PG   \n",
      "597  https://www.imdb.com/title/tt22741760/?ref_=sr...  2024   1h 43m    R   \n",
      "598  https://www.imdb.com/title/tt33303798/?ref_=sr...  2024   1h 38m  NaN   \n",
      "599  https://www.imdb.com/title/tt32149731/?ref_=sr...  2024   1h 28m  NaN   \n",
      "\n",
      "     Rating Votes  Durata_in_minuti  \n",
      "0       6.0    1K                90  \n",
      "1       7.7    17               133  \n",
      "2       5.2   217                85  \n",
      "3       6.0  2.9K                87  \n",
      "4       6.1   521               110  \n",
      "..      ...   ...               ...  \n",
      "595     8.2  3.1K                97  \n",
      "596     7.5   15K               129  \n",
      "597     6.4  3.3K               103  \n",
      "598     8.4    61                98  \n",
      "599     7.6  1.1K                88  \n",
      "\n",
      "[600 rows x 8 columns]\n"
     ]
    }
   ],
   "source": [
    "# Dataframe con titoli ordinati\n",
    "df['Title_senza_articoli'] = df['Title'].apply(pulisci_titolo)\n",
    "\n",
    "# Ordina in base alla colonna pulita, poi rimuovila\n",
    "df_ordinato = (\n",
    "    df.sort_values(by='Title_senza_articoli')\n",
    "      .drop(columns=['Title_senza_articoli'])\n",
    "      .reset_index(drop=True)\n",
    ")\n",
    "\n",
    "print(df_ordinato)"
   ]
  },
  {
   "cell_type": "markdown",
   "metadata": {},
   "source": [
    "#2. Filtraggio dei film con durata > 120 minuti"
   ]
  },
  {
   "cell_type": "code",
   "execution_count": 8,
   "metadata": {},
   "outputs": [
    {
     "name": "stdout",
     "output_type": "stream",
     "text": [
      "                                          Title  \\\n",
      "0                                  46. Conclave   \n",
      "1                        351. How to Make Gravy   \n",
      "2                                     340. Eden   \n",
      "3                               329. Culpa Tuya   \n",
      "4                                  300. Santosh   \n",
      "..                                          ...   \n",
      "153                           66. Kalki 2898 AD   \n",
      "154   49. Horizon: An American Saga - Chapter 1   \n",
      "155  377. Horizon: An American Saga - Chapter 2   \n",
      "156               76. Pushpa: The Rule - Part 2   \n",
      "157                          167. The Brutalist   \n",
      "\n",
      "                                            Movie Link  Year Duration  \\\n",
      "0    https://www.imdb.com/title/tt20215234/?ref_=sr...  2024       2h   \n",
      "1    https://www.imdb.com/title/tt26315685/?ref_=sr...  2024       2h   \n",
      "2    https://www.imdb.com/title/tt23149780/?ref_=sr...  2024       2h   \n",
      "3    https://www.imdb.com/title/tt28510079/?ref_=sr...  2024       2h   \n",
      "4    https://www.imdb.com/title/tt30444418/?ref_=sr...  2024       2h   \n",
      "..                                                 ...   ...      ...   \n",
      "153  https://www.imdb.com/title/tt12735488/?ref_=sr...  2024       3h   \n",
      "154  https://www.imdb.com/title/tt17505010/?ref_=sr...  2024    3h 1m   \n",
      "155  https://www.imdb.com/title/tt27665778/?ref_=sr...  2024   3h 10m   \n",
      "156  https://www.imdb.com/title/tt16539454/?ref_=sr...  2024   3h 21m   \n",
      "157  https://www.imdb.com/title/tt8999762/?ref_=sr_...  2024   3h 35m   \n",
      "\n",
      "           MPA  Rating Votes  Durata_in_minuti  \\\n",
      "0           PG     7.4   56K               120   \n",
      "1          NaN     7.1   723               120   \n",
      "2            R     6.0   729               120   \n",
      "3          NaN     5.3  4.4K               120   \n",
      "4            R     7.1   834               120   \n",
      "..         ...     ...   ...               ...   \n",
      "153  Not Rated     7.0   63K               180   \n",
      "154          R     6.7   33K               181   \n",
      "155        NaN     7.2   920               190   \n",
      "156        NaN     6.4   41K               201   \n",
      "157          R     8.1    3K               215   \n",
      "\n",
      "                      Title_senza_articoli  \n",
      "0                                 Conclave  \n",
      "1                        How to Make Gravy  \n",
      "2                                     Eden  \n",
      "3                               Culpa Tuya  \n",
      "4                                  Santosh  \n",
      "..                                     ...  \n",
      "153                          Kalki 2898 AD  \n",
      "154  Horizon: An American Saga - Chapter 1  \n",
      "155  Horizon: An American Saga - Chapter 2  \n",
      "156              Pushpa: The Rule - Part 2  \n",
      "157                              Brutalist  \n",
      "\n",
      "[158 rows x 9 columns]\n"
     ]
    }
   ],
   "source": [
    "df['Durata_in_minuti'] = df['Duration'].apply(durata_in_minuti)\n",
    "\n",
    "\"\"\"\n",
    "df_sorted_by_durata = df[df['Durata_in_minuti'] >= 120].reset_index(drop=True)  #maschera booleana\n",
    "\"\"\"\n",
    "\n",
    "df_120_minutes_movies = (df.query(\"Durata_in_minuti >= 120\")\n",
    ".sort_values(by=\"Durata_in_minuti\")\n",
    ".reset_index(drop=True)\n",
    ")\n",
    "\n",
    "print(df_120_minutes_movies)"
   ]
  },
  {
   "cell_type": "markdown",
   "metadata": {},
   "source": [
    "#3. Raggruppamento per MPA"
   ]
  },
  {
   "cell_type": "code",
   "execution_count": 9,
   "metadata": {},
   "outputs": [
    {
     "name": "stdout",
     "output_type": "stream",
     "text": [
      "          MPA  Totale_film\n",
      "0         13+            1\n",
      "1         16+            1\n",
      "2           G            1\n",
      "3   Not Rated           15\n",
      "4          PG           37\n",
      "5       PG-13           82\n",
      "6           R          184\n",
      "7       TV-14           11\n",
      "8        TV-G            1\n",
      "9       TV-MA           23\n",
      "10      TV-PG            9\n",
      "11       TV-Y            1\n",
      "12    Unrated            3\n"
     ]
    }
   ],
   "source": [
    "conteggio_mpa = df.groupby('MPA').size().reset_index(name='Totale_film')\n",
    "print(conteggio_mpa)"
   ]
  },
  {
   "cell_type": "markdown",
   "metadata": {},
   "source": [
    "#4. Filtraggio dei film con rating > 7.5"
   ]
  },
  {
   "cell_type": "code",
   "execution_count": 10,
   "metadata": {},
   "outputs": [
    {
     "name": "stdout",
     "output_type": "stream",
     "text": [
      "                                                Title  Rating  \\\n",
      "0                                  241. Water Brother     9.5   \n",
      "1   170. Laufey's A Night at the Symphony: Hollywo...     9.4   \n",
      "2     468. Attack on Titan the Movie: The Last Attack     9.3   \n",
      "3                                  581. Desert Fiends     9.2   \n",
      "4                            277. Inheritance to Love     9.2   \n",
      "..                                                ...     ...   \n",
      "89                                   208. Nickel Boys     7.6   \n",
      "90                          221. Bocchi the Rock! Re:     7.6   \n",
      "91                     244. The Count of Monte-Cristo     7.6   \n",
      "92                          542. Love in the Big City     7.6   \n",
      "93                                490. The Bibi Files     7.6   \n",
      "\n",
      "    Durata_in_minuti  \n",
      "0                  0  \n",
      "1                 98  \n",
      "2                145  \n",
      "3                  0  \n",
      "4                 88  \n",
      "..               ...  \n",
      "89               140  \n",
      "90                90  \n",
      "91               178  \n",
      "92               118  \n",
      "93               115  \n",
      "\n",
      "[94 rows x 3 columns]\n"
     ]
    }
   ],
   "source": [
    "df_rating_alto = (df.query(\"Rating > 7.5\")\n",
    ".sort_values(by=\"Rating\", ascending=False)\n",
    ".reset_index(drop=True))\n",
    "\n",
    "print(df_rating_alto[['Title', 'Rating', 'Durata_in_minuti']])"
   ]
  }
 ],
 "metadata": {
  "kernelspec": {
   "display_name": "AcademyPython",
   "language": "python",
   "name": "python3"
  },
  "language_info": {
   "codemirror_mode": {
    "name": "ipython",
    "version": 3
   },
   "file_extension": ".py",
   "mimetype": "text/x-python",
   "name": "python",
   "nbconvert_exporter": "python",
   "pygments_lexer": "ipython3",
   "version": "3.13.2"
  }
 },
 "nbformat": 4,
 "nbformat_minor": 2
}
